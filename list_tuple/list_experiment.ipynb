{
 "cells": [
  {
   "cell_type": "code",
   "execution_count": 1,
   "id": "initial_id",
   "metadata": {
    "collapsed": true,
    "ExecuteTime": {
     "end_time": "2023-10-14T13:09:55.232210Z",
     "start_time": "2023-10-14T13:09:55.189103Z"
    }
   },
   "outputs": [],
   "source": [
    "import sys\n",
    "%load_ext memory_profiler\n"
   ]
  },
  {
   "cell_type": "code",
   "execution_count": 2,
   "outputs": [
    {
     "name": "stdout",
     "output_type": "stream",
     "text": [
      "3.85 s ± 44.5 ms per loop (mean ± std. dev. of 7 runs, 1 loop each)\n"
     ]
    }
   ],
   "source": [
    "# time of list comprehension\n",
    "\n",
    "%timeit [[i*j for j in range(10000)] for i in range(10000)]"
   ],
   "metadata": {
    "collapsed": false,
    "ExecuteTime": {
     "end_time": "2023-10-14T13:10:25.986907Z",
     "start_time": "2023-10-14T13:09:55.305997Z"
    }
   },
   "id": "56bef7bbb566b67b"
  },
  {
   "cell_type": "code",
   "execution_count": 3,
   "outputs": [
    {
     "name": "stdout",
     "output_type": "stream",
     "text": [
      "13.3 ns ± 0.0774 ns per loop (mean ± std. dev. of 7 runs, 100,000,000 loops each)\n"
     ]
    },
    {
     "ename": "NameError",
     "evalue": "name 't' is not defined",
     "output_type": "error",
     "traceback": [
      "\u001B[0;31m---------------------------------------------------------------------------\u001B[0m",
      "\u001B[0;31mNameError\u001B[0m                                 Traceback (most recent call last)",
      "Cell \u001B[0;32mIn[3], line 6\u001B[0m\n\u001B[1;32m      4\u001B[0m \u001B[38;5;28;01mfor\u001B[39;00m i \u001B[38;5;129;01min\u001B[39;00m \u001B[38;5;28mrange\u001B[39m(\u001B[38;5;241m10000\u001B[39m):\n\u001B[1;32m      5\u001B[0m     \u001B[38;5;28;01mfor\u001B[39;00m j \u001B[38;5;129;01min\u001B[39;00m \u001B[38;5;28mrange\u001B[39m(\u001B[38;5;241m10000\u001B[39m):\n\u001B[0;32m----> 6\u001B[0m         \u001B[43mt\u001B[49m\u001B[38;5;241m.\u001B[39mappend(i\u001B[38;5;241m*\u001B[39mj)\n",
      "\u001B[0;31mNameError\u001B[0m: name 't' is not defined"
     ]
    }
   ],
   "source": [
    "# time of for-loop \n",
    "\n",
    "%timeit t = []\n",
    "for i in range(10000):\n",
    "    for j in range(10000):\n",
    "        t.append(i*j)"
   ],
   "metadata": {
    "collapsed": false,
    "ExecuteTime": {
     "end_time": "2023-10-14T13:10:36.902721Z",
     "start_time": "2023-10-14T13:10:26.058555Z"
    }
   },
   "id": "665b8530237494e9"
  },
  {
   "cell_type": "markdown",
   "source": [],
   "metadata": {
    "collapsed": false
   },
   "id": "5371d60ea50d07a4"
  },
  {
   "cell_type": "code",
   "execution_count": 4,
   "outputs": [
    {
     "name": "stdout",
     "output_type": "stream",
     "text": [
      "peak memory: 4323.73 MiB, increment: 3161.28 MiB\n"
     ]
    }
   ],
   "source": [
    "\"\"\" memory consuming of list comprehension \"\"\"\n",
    "\n",
    "%memit [[i*j for j in range(10000)] for i in range(10000)]"
   ],
   "metadata": {
    "collapsed": false,
    "ExecuteTime": {
     "end_time": "2023-10-14T13:12:10.996293Z",
     "start_time": "2023-10-14T13:12:06.231660Z"
    }
   },
   "id": "4c473ea94602d187"
  },
  {
   "cell_type": "code",
   "execution_count": 5,
   "outputs": [
    {
     "name": "stdout",
     "output_type": "stream",
     "text": [
      "peak memory: 1297.91 MiB, increment: 0.02 MiB\n"
     ]
    }
   ],
   "source": [
    "\"\"\" memory consuming of list with for-loop \"\"\"\n",
    "\n",
    "%memit t = []\n",
    "for i in range(10000):\n",
    "    for j in range(10000):\n",
    "        t.append(i*j)"
   ],
   "metadata": {
    "collapsed": false,
    "ExecuteTime": {
     "end_time": "2023-10-14T13:12:18.459148Z",
     "start_time": "2023-10-14T13:12:11.018382Z"
    }
   },
   "id": "3be57cf3a63a0f51"
  }
 ],
 "metadata": {
  "kernelspec": {
   "display_name": "Python 3",
   "language": "python",
   "name": "python3"
  },
  "language_info": {
   "codemirror_mode": {
    "name": "ipython",
    "version": 2
   },
   "file_extension": ".py",
   "mimetype": "text/x-python",
   "name": "python",
   "nbconvert_exporter": "python",
   "pygments_lexer": "ipython2",
   "version": "2.7.6"
  }
 },
 "nbformat": 4,
 "nbformat_minor": 5
}
